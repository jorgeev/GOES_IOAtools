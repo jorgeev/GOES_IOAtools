{
 "cells": [
  {
   "cell_type": "code",
   "execution_count": 1,
   "metadata": {},
   "outputs": [],
   "source": [
    "import gswrap\n",
    "import os\n",
    "from datetime import datetime\n",
    "from time import sleep\n",
    "import subprocess"
   ]
  },
  {
   "cell_type": "code",
   "execution_count": 2,
   "metadata": {},
   "outputs": [],
   "source": [
    "def gs_goesbands(product_list, save_dir1, save_dir):\n",
    "    gsurl = 'gs://gcp-public-data-goes-16/ABI-L2-{0}/{1}/{2}/{3}'\n",
    "    flist = []\n",
    "    # Get current time\n",
    "    cdate = datetime.utcnow()\n",
    "    yr, doy, hh = [cdate.strftime('%Y'), cdate.strftime('%j'), cdate.strftime('%H')]\n",
    "    # Verify if folders exists\n",
    "    if os.path.isdir(save_dir1.format(yr)):\n",
    "        if os.path.isdir(save_dir.format(yr,doy)):\n",
    "            ii = 1\n",
    "        else:\n",
    "            os.mkdir(save_dir.format(yr, doy))\n",
    "    else:\n",
    "        os.mkdir(save_dir1.format(yr))\n",
    "        os.mkdir(save_dir.format(yr, doy))   \n",
    "    # Get list of files\n",
    "    for prod in product_list:\n",
    "        flist.extend(client.ls(gsurl.format(prod,yr,doy,hh), recursive = True))\n",
    "    \n",
    "    ii = 0\n",
    "    \n",
    "    for file in flist:\n",
    "        if os.path.isfile(save_dir.format(yr, doy) + str.split(file,'/')[-1]):\n",
    "            continue\n",
    "        else:\n",
    "            #print('Se descargara {}'.format(str.split(file,'/')[-1]))\n",
    "            ii += 1\n",
    "            client.cp(src = file,\n",
    "                      dst = save_dir.format(yr, doy),\n",
    "                      recursive = True)\n",
    "    if ii > 0:\n",
    "        os.system('notify-send \"Nuevos Archivos\" \"Se descargaron {0} archivos nuevos. /n {1}\"'.format(ii))"
   ]
  },
  {
   "cell_type": "code",
   "execution_count": 3,
   "metadata": {},
   "outputs": [],
   "source": [
    "# User vars\n",
    "product_list = ['ACHAF', 'MCMIPF']\n",
    "save_dir1 = '/home/jorge/Storage/{0}/'\n",
    "save_dir = save_dir1 + '{1}/'\n",
    "\n",
    "client = gswrap.Client()"
   ]
  },
  {
   "cell_type": "code",
   "execution_count": 4,
   "metadata": {},
   "outputs": [
    {
     "name": "stdout",
     "output_type": "stream",
     "text": [
      "Se descargara OR_ABI-L2-MCMIPF-M6_G16_s20193442300190_e20193442309503_c20193442310007.nc\n"
     ]
    },
    {
     "ename": "KeyboardInterrupt",
     "evalue": "",
     "output_type": "error",
     "traceback": [
      "\u001b[0;31m---------------------------------------------------------------------------\u001b[0m",
      "\u001b[0;31mKeyboardInterrupt\u001b[0m                         Traceback (most recent call last)",
      "\u001b[0;32m<ipython-input-4-252714ba083b>\u001b[0m in \u001b[0;36m<module>\u001b[0;34m\u001b[0m\n\u001b[1;32m      1\u001b[0m \u001b[0;32mwhile\u001b[0m \u001b[0;32mTrue\u001b[0m\u001b[0;34m:\u001b[0m\u001b[0;34m\u001b[0m\u001b[0;34m\u001b[0m\u001b[0m\n\u001b[1;32m      2\u001b[0m     \u001b[0mgs_goesbands\u001b[0m\u001b[0;34m(\u001b[0m\u001b[0mproduct_list\u001b[0m\u001b[0;34m,\u001b[0m \u001b[0msave_dir1\u001b[0m\u001b[0;34m,\u001b[0m \u001b[0msave_dir\u001b[0m\u001b[0;34m)\u001b[0m\u001b[0;34m\u001b[0m\u001b[0;34m\u001b[0m\u001b[0m\n\u001b[0;32m----> 3\u001b[0;31m     \u001b[0msleep\u001b[0m\u001b[0;34m(\u001b[0m\u001b[0;36m60\u001b[0m\u001b[0;34m)\u001b[0m\u001b[0;34m\u001b[0m\u001b[0;34m\u001b[0m\u001b[0m\n\u001b[0m",
      "\u001b[0;31mKeyboardInterrupt\u001b[0m: "
     ]
    }
   ],
   "source": [
    "while True:\n",
    "    gs_goesbands(product_list, save_dir1, save_dir)\n",
    "    sleep(60)"
   ]
  }
 ],
 "metadata": {
  "kernelspec": {
   "display_name": "Python 3",
   "language": "python",
   "name": "python3"
  },
  "language_info": {
   "codemirror_mode": {
    "name": "ipython",
    "version": 3
   },
   "file_extension": ".py",
   "mimetype": "text/x-python",
   "name": "python",
   "nbconvert_exporter": "python",
   "pygments_lexer": "ipython3",
   "version": "3.7.3"
  }
 },
 "nbformat": 4,
 "nbformat_minor": 2
}
