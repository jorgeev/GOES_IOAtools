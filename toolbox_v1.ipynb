{
 "cells": [
  {
   "cell_type": "code",
   "execution_count": 6,
   "metadata": {},
   "outputs": [
    {
     "name": "stdout",
     "output_type": "stream",
     "text": [
      "Overwriting toolbox_v1.py\n"
     ]
    }
   ],
   "source": [
    "%%writefile toolbox_v1.py\n",
    "import xarray as xr\n",
    "import numpy as np\n",
    "import scipy as cp\n",
    "from scipy.signal import hilbert\n",
    "\n",
    "import geoviews as gv\n",
    "import geoviews.feature as gf\n",
    "\n",
    "from cartopy import crs\n",
    "from geoviews import opts\n",
    "\n",
    "from pyresample import AreaDefinition\n",
    "\n",
    "import holoviews as hv\n",
    "from holoviews import opts\n",
    "from holoviews.plotting.links import RangeToolLink\n",
    "\n",
    "hv.extension('bokeh')\n",
    "gv.extension('bokeh')\n",
    "\n",
    "#plot raw geographic netcdf\n",
    "def fastplot(dframe, var, coords, raxis, cm='Jet'):\n",
    "    lcoords = len(coords)\n",
    "    if lcoords == 2:\n",
    "        gvdata = gv.Dataset(dframe, kdims=[coords[0], coords[1], raxis], vdims=var)\n",
    "        back = gvdata.to(gv.Image, [coords[0], coords[1]], var)\n",
    "        return gv.output(back.opts(colorbar=True, backend='bokeh', cmap=cm, width=600, height=400), backend='bokeh')\n",
    "    else:\n",
    "        print(\"Incomplete coordinates\")\n",
    "def shapeplot(dframe, var, coords, raxis, cm='Jet', extralayers):\n",
    "    lcoords = len(coords)\n",
    "    xly = len(extralayers)\n",
    "    if lcoords == 2:\n",
    "        gvdata = gv.Dataset(dframe, kdims=[coords[0], coords[1], raxis], vdims=var)\n",
    "        back = gvdata.to(gv.Image, [coords[0], coords[1]], var)\n",
    "        for layer in extralayers:\n",
    "        return gv.output(back.opts(colorbar=True, backend='bokeh', cmap=cm, width=600, height=400), backend='bokeh')\n",
    "    else:\n",
    "        print(\"Incomplete coordinates\")"
   ]
  },
  {
   "cell_type": "code",
   "execution_count": 9,
   "metadata": {},
   "outputs": [
    {
     "ename": "NameError",
     "evalue": "name 'var' is not defined",
     "output_type": "error",
     "traceback": [
      "\u001b[0;31m---------------------------------------------------------------------------\u001b[0m",
      "\u001b[0;31mNameError\u001b[0m                                 Traceback (most recent call last)",
      "\u001b[0;32m<ipython-input-9-7df6aa5b3c4f>\u001b[0m in \u001b[0;36m<module>\u001b[0;34m\u001b[0m\n\u001b[1;32m      1\u001b[0m \u001b[0;31m#plot raw geographic netcdf\u001b[0m\u001b[0;34m\u001b[0m\u001b[0;34m\u001b[0m\u001b[0;34m\u001b[0m\u001b[0m\n\u001b[0;32m----> 2\u001b[0;31m \u001b[0;32mdef\u001b[0m \u001b[0mfastplot\u001b[0m\u001b[0;34m(\u001b[0m\u001b[0mdframe\u001b[0m\u001b[0;34m,\u001b[0m \u001b[0mvar\u001b[0m\u001b[0;34m=\u001b[0m\u001b[0mvar\u001b[0m\u001b[0;34m,\u001b[0m \u001b[0mcoords\u001b[0m\u001b[0;34m=\u001b[0m\u001b[0mcoords\u001b[0m\u001b[0;34m,\u001b[0m \u001b[0mraxis\u001b[0m\u001b[0;34m=\u001b[0m\u001b[0mraxis\u001b[0m\u001b[0;34m,\u001b[0m \u001b[0mcm\u001b[0m\u001b[0;34m=\u001b[0m\u001b[0;34m'Jet'\u001b[0m\u001b[0;34m)\u001b[0m\u001b[0;34m:\u001b[0m\u001b[0;34m\u001b[0m\u001b[0;34m\u001b[0m\u001b[0m\n\u001b[0m\u001b[1;32m      3\u001b[0m     \u001b[0mlcoords\u001b[0m \u001b[0;34m=\u001b[0m \u001b[0mlen\u001b[0m\u001b[0;34m(\u001b[0m\u001b[0mcoords\u001b[0m\u001b[0;34m)\u001b[0m\u001b[0;34m\u001b[0m\u001b[0;34m\u001b[0m\u001b[0m\n\u001b[1;32m      4\u001b[0m     \u001b[0;32mwhile\u001b[0m \u001b[0mlcoords\u001b[0m \u001b[0;34m==\u001b[0m \u001b[0;36m2\u001b[0m\u001b[0;34m:\u001b[0m\u001b[0;34m\u001b[0m\u001b[0;34m\u001b[0m\u001b[0m\n\u001b[1;32m      5\u001b[0m         \u001b[0;32mtry\u001b[0m\u001b[0;34m:\u001b[0m\u001b[0;34m\u001b[0m\u001b[0;34m\u001b[0m\u001b[0m\n",
      "\u001b[0;31mNameError\u001b[0m: name 'var' is not defined"
     ]
    }
   ],
   "source": []
  },
  {
   "cell_type": "code",
   "execution_count": 6,
   "metadata": {},
   "outputs": [
    {
     "name": "stderr",
     "output_type": "stream",
     "text": [
      "UsageError: %%writefile is a cell magic, but the cell body is empty.\n"
     ]
    }
   ],
   "source": []
  },
  {
   "cell_type": "code",
   "execution_count": null,
   "metadata": {},
   "outputs": [],
   "source": []
  }
 ],
 "metadata": {
  "kernelspec": {
   "display_name": "Python 3",
   "language": "python",
   "name": "python3"
  },
  "language_info": {
   "codemirror_mode": {
    "name": "ipython",
    "version": 3
   },
   "file_extension": ".py",
   "mimetype": "text/x-python",
   "name": "python",
   "nbconvert_exporter": "python",
   "pygments_lexer": "ipython3",
   "version": "3.7.3"
  }
 },
 "nbformat": 4,
 "nbformat_minor": 2
}
